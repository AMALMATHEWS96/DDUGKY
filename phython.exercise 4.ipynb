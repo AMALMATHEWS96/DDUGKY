{
 "cells": [
  {
   "cell_type": "code",
   "execution_count": 1,
   "id": "439d7ba1",
   "metadata": {},
   "outputs": [
    {
     "name": "stdout",
     "output_type": "stream",
     "text": [
      "{'Name': 'Arun', ' Age': 10, 'Address': 'abcd'}\n"
     ]
    }
   ],
   "source": [
    "p={'Name':'Arun',\n",
    "   ' Age':10,\n",
    "    'Address':'abcd'}\n",
    "print(p)"
   ]
  },
  {
   "cell_type": "code",
   "execution_count": 2,
   "id": "4f91b01e",
   "metadata": {},
   "outputs": [
    {
     "name": "stdout",
     "output_type": "stream",
     "text": [
      "3\n"
     ]
    }
   ],
   "source": [
    "print(len(p))"
   ]
  },
  {
   "cell_type": "code",
   "execution_count": 3,
   "id": "e58bbce4",
   "metadata": {},
   "outputs": [
    {
     "name": "stdout",
     "output_type": "stream",
     "text": [
      "Arun\n",
      "4\n"
     ]
    }
   ],
   "source": [
    "a=p['Name']\n",
    "print(a)\n",
    "print(len(a))"
   ]
  },
  {
   "cell_type": "code",
   "execution_count": 4,
   "id": "7cdc6be8",
   "metadata": {},
   "outputs": [
    {
     "data": {
      "text/plain": [
       "'Arun'"
      ]
     },
     "execution_count": 4,
     "metadata": {},
     "output_type": "execute_result"
    }
   ],
   "source": [
    "p.pop('Name')"
   ]
  },
  {
   "cell_type": "code",
   "execution_count": 5,
   "id": "6ec5b713",
   "metadata": {},
   "outputs": [
    {
     "name": "stdout",
     "output_type": "stream",
     "text": [
      " Age\n",
      "Address\n"
     ]
    }
   ],
   "source": [
    "for x in p:\n",
    "    print(x)"
   ]
  },
  {
   "cell_type": "code",
   "execution_count": 6,
   "id": "0825fbba",
   "metadata": {},
   "outputs": [
    {
     "name": "stdout",
     "output_type": "stream",
     "text": [
      " Age 10\n",
      "Address abcd\n"
     ]
    }
   ],
   "source": [
    "for x,y in p.items():\n",
    "    print(x,y)"
   ]
  },
  {
   "cell_type": "code",
   "execution_count": 7,
   "id": "0850d8ea",
   "metadata": {},
   "outputs": [
    {
     "name": "stdout",
     "output_type": "stream",
     "text": [
      "{' Age': 10, 'Address': 'abcd', 'email': 'asd@gmail.com'}\n"
     ]
    }
   ],
   "source": [
    "p['email'] = 'asd@gmail.com'\n",
    "print(p)"
   ]
  },
  {
   "cell_type": "code",
   "execution_count": 8,
   "id": "230227c5",
   "metadata": {},
   "outputs": [
    {
     "name": "stdout",
     "output_type": "stream",
     "text": [
      "{1: 1, 2: 4, 3: 9, 4: 16, 5: 25, 6: 36, 7: 49, 8: 64}\n"
     ]
    }
   ],
   "source": [
    "n=8\n",
    "value={x:x*x for x in range(1,n+1)}\n",
    "print (value)\n"
   ]
  },
  {
   "cell_type": "markdown",
   "id": "dbea3a34",
   "metadata": {},
   "source": [
    "# merge two python dictionaries\n"
   ]
  },
  {
   "cell_type": "code",
   "execution_count": 9,
   "id": "c67b20f0",
   "metadata": {},
   "outputs": [
    {
     "name": "stdout",
     "output_type": "stream",
     "text": [
      "{'dosa': 'chattni', 'appam': 'kadala', 'tea': 'coffee', 'boost': 'horlicks'}\n"
     ]
    }
   ],
   "source": [
    "r={'dosa':'chattni','appam':'kadala'}\n",
    "s={'tea':'coffee','boost':'horlicks'}\n",
    "r.update(s)\n",
    "print(r)\n",
    "    "
   ]
  },
  {
   "cell_type": "markdown",
   "id": "fb4c6924",
   "metadata": {},
   "source": [
    "# #sum of all iterms in dictionary\n"
   ]
  },
  {
   "cell_type": "code",
   "execution_count": 10,
   "id": "25750c4c",
   "metadata": {},
   "outputs": [
    {
     "name": "stdout",
     "output_type": "stream",
     "text": [
      "sum of all values in the dictionary: 1200\n"
     ]
    }
   ],
   "source": [
    "j={'a':200,'b':400,'c':600}\n",
    "sum_of_values =sum(j.values())\n",
    "print('sum of all values in the dictionary:',sum_of_values )"
   ]
  },
  {
   "cell_type": "markdown",
   "id": "7564bd41",
   "metadata": {},
   "source": [
    "# ###multiply all items in dictionary"
   ]
  },
  {
   "cell_type": "code",
   "execution_count": 11,
   "id": "3d520acd",
   "metadata": {},
   "outputs": [
    {
     "name": "stdout",
     "output_type": "stream",
     "text": [
      "504\n"
     ]
    }
   ],
   "source": [
    "d={'q':7,'w':8,'e':9}\n",
    "result=1\n",
    "for key in d:\n",
    "    result=result*d[key]\n",
    "print (result )"
   ]
  },
  {
   "cell_type": "markdown",
   "id": "b6b8271f",
   "metadata": {},
   "source": [
    "# remove key from a dictionary"
   ]
  },
  {
   "cell_type": "code",
   "execution_count": 12,
   "id": "afdae5d3",
   "metadata": {},
   "outputs": [
    {
     "name": "stdout",
     "output_type": "stream",
     "text": [
      "{'orange': 3, 'apple': 5, 'grapes': 7, 'mango': 4}\n"
     ]
    }
   ],
   "source": [
    "l={'orange':3,'apple':5,'grapes':7,'mango':4}\n",
    "print(l)"
   ]
  },
  {
   "cell_type": "code",
   "execution_count": 13,
   "id": "67fcb923",
   "metadata": {},
   "outputs": [
    {
     "data": {
      "text/plain": [
       "7"
      ]
     },
     "execution_count": 13,
     "metadata": {},
     "output_type": "execute_result"
    }
   ],
   "source": [
    "l.pop('grapes')"
   ]
  },
  {
   "cell_type": "code",
   "execution_count": 14,
   "id": "7e5c88a5",
   "metadata": {},
   "outputs": [
    {
     "name": "stdout",
     "output_type": "stream",
     "text": [
      "{'orange': 3, 'apple': 5, 'mango': 4}\n"
     ]
    }
   ],
   "source": [
    "print(l)"
   ]
  },
  {
   "cell_type": "code",
   "execution_count": 15,
   "id": "3118243a",
   "metadata": {},
   "outputs": [
    {
     "name": "stdout",
     "output_type": "stream",
     "text": [
      "dict_items([('orange', 3), ('apple', 5), ('mango', 4)])\n"
     ]
    }
   ],
   "source": [
    "print(l.items())"
   ]
  },
  {
   "cell_type": "code",
   "execution_count": 16,
   "id": "820f51e7",
   "metadata": {},
   "outputs": [
    {
     "name": "stdout",
     "output_type": "stream",
     "text": [
      "orange\n",
      "apple\n",
      "mango\n"
     ]
    }
   ],
   "source": [
    "for x in l:\n",
    "    print(x)"
   ]
  },
  {
   "cell_type": "code",
   "execution_count": 17,
   "id": "d8ce796e",
   "metadata": {},
   "outputs": [
    {
     "name": "stdout",
     "output_type": "stream",
     "text": [
      "orange 3\n",
      "apple 5\n",
      "mango 4\n"
     ]
    }
   ],
   "source": [
    "for x,y in l.items():\n",
    "    print(x,y)"
   ]
  },
  {
   "cell_type": "markdown",
   "id": "13598221",
   "metadata": {},
   "source": [
    "# list from 11-20,21-30 and 31-40 respectively.Access the fifth value of each key from the dictionary"
   ]
  },
  {
   "cell_type": "code",
   "execution_count": 42,
   "id": "49f19c77",
   "metadata": {},
   "outputs": [
    {
     "name": "stdout",
     "output_type": "stream",
     "text": [
      "{'x': [11, 12, 13, 14, 15, 16, 17, 18, 19], 'y': [21, 22, 23, 24, 25, 26, 27, 28, 29], 'z': [31, 32, 33, 34, 35, 36, 37, 38, 39]}\n",
      "[15, 16]\n",
      "[25, 26]\n",
      "[35, 36]\n"
     ]
    }
   ],
   "source": [
    "b={'x':[11,12,13,14,15,16,17,18,19],\n",
    "    'y':[21,22,23,24,25,26,27,28,29],\n",
    "    'z':[31,32,33,34,35,36,37,38,39]} \n",
    "print(b)\n",
    "#for i in b.values():\n",
    "   # print(i[4])\n",
    "for j in b.keys():\n",
    "    print(b[j][4:6])"
   ]
  },
  {
   "cell_type": "code",
   "execution_count": 43,
   "id": "e5b53db2",
   "metadata": {},
   "outputs": [
    {
     "name": "stdout",
     "output_type": "stream",
     "text": [
      "{'x': [11, 12, 13, 14, 15, 16, 17, 18, 19], 'y': [21, 22, 23, 24, 25, 26, 27, 28, 29], 'z': [31, 32, 33, 34, 35, 36, 37, 38, 39]}\n"
     ]
    }
   ],
   "source": [
    "bob={'x':[11,12,13,14,15,16,17,18,19],\n",
    "    'y':[21,22,23,24,25,26,27,28,29],\n",
    "    'z':[31,32,33,34,35,36,37,38,39]} \n",
    "print(bob)"
   ]
  },
  {
   "cell_type": "code",
   "execution_count": 45,
   "id": "6cac3d47",
   "metadata": {},
   "outputs": [
    {
     "name": "stdout",
     "output_type": "stream",
     "text": [
      "[16, 17]\n",
      "[26, 27]\n",
      "[36, 37]\n"
     ]
    }
   ],
   "source": [
    "for charley in bob.keys():\n",
    "    print(bob[charley][5:7])"
   ]
  },
  {
   "cell_type": "code",
   "execution_count": null,
   "id": "19fcd9ae",
   "metadata": {},
   "outputs": [],
   "source": []
  }
 ],
 "metadata": {
  "kernelspec": {
   "display_name": "Python 3 (ipykernel)",
   "language": "python",
   "name": "python3"
  },
  "language_info": {
   "codemirror_mode": {
    "name": "ipython",
    "version": 3
   },
   "file_extension": ".py",
   "mimetype": "text/x-python",
   "name": "python",
   "nbconvert_exporter": "python",
   "pygments_lexer": "ipython3",
   "version": "3.9.13"
  }
 },
 "nbformat": 4,
 "nbformat_minor": 5
}
