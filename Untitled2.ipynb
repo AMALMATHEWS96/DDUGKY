{
 "cells": [
  {
   "cell_type": "code",
   "execution_count": null,
   "id": "98ca0cf1",
   "metadata": {},
   "outputs": [],
   "source": [
    "n=1\n",
    "for i in range(1,11):\n",
    "    if (i%2!=0):\n",
    "         print(i)\n",
    "               "
   ]
  },
  {
   "cell_type": "code",
   "execution_count": null,
   "id": "299f655d",
   "metadata": {},
   "outputs": [],
   "source": [
    "a=float(input('enter the number:'))\n",
    "if a>0:\n",
    "    print('positive number')\n",
    "\n",
    "elif a==0:\n",
    "    print('its zero')\n",
    "else:\n",
    "    print('negative number')\n",
    "    "
   ]
  },
  {
   "cell_type": "code",
   "execution_count": null,
   "id": "c4856c41",
   "metadata": {},
   "outputs": [],
   "source": [
    "sum=0\n",
    "for i in range(1,21):\n",
    "    sum=sum+i\n",
    "print(sum)    \n"
   ]
  },
  {
   "cell_type": "code",
   "execution_count": null,
   "id": "d3e79ff8",
   "metadata": {},
   "outputs": [],
   "source": [
    "text=\"hello world\"\n",
    "for i in text:\n",
    "    print(i)"
   ]
  },
  {
   "cell_type": "code",
   "execution_count": null,
   "id": "638ce106",
   "metadata": {},
   "outputs": [],
   "source": [
    "sg=(input('enter the string'))\n",
    "print(st[::-1])"
   ]
  },
  {
   "cell_type": "code",
   "execution_count": 1,
   "id": "0ab0b173",
   "metadata": {},
   "outputs": [
    {
     "name": "stdout",
     "output_type": "stream",
     "text": [
      "{1: 1, 2: 4, 3: 9, 4: 16, 5: 25, 6: 36, 7: 49, 8: 64}\n"
     ]
    }
   ],
   "source": [
    "n=8\n",
    "value={x:x*x for x in range(1,n+1)}\n",
    "print (value)"
   ]
  },
  {
   "cell_type": "code",
   "execution_count": 2,
   "id": "19ce435a",
   "metadata": {},
   "outputs": [
    {
     "data": {
      "text/plain": [
       "'Jello world'"
      ]
     },
     "execution_count": 2,
     "metadata": {},
     "output_type": "execute_result"
    }
   ],
   "source": [
    "a=\"Hello world\"\n",
    "a.replace('H',\"J\")"
   ]
  },
  {
   "cell_type": "code",
   "execution_count": 5,
   "id": "4847c473",
   "metadata": {},
   "outputs": [
    {
     "name": "stdout",
     "output_type": "stream",
     "text": [
      "<class 'tuple'>\n"
     ]
    }
   ],
   "source": [
    "T=(\"MANGO\",)\n",
    "print(type(T))"
   ]
  },
  {
   "cell_type": "code",
   "execution_count": 6,
   "id": "8e49977d",
   "metadata": {},
   "outputs": [
    {
     "name": "stdout",
     "output_type": "stream",
     "text": [
      "['kiwi', 'banana', 'cherry']\n"
     ]
    }
   ],
   "source": [
    "fruits=['apple','banana','cherry']\n",
    "fruits[0]=\"kiwi\"\n",
    "print(fruits)"
   ]
  },
  {
   "cell_type": "code",
   "execution_count": null,
   "id": "83caf69b",
   "metadata": {},
   "outputs": [],
   "source": []
  }
 ],
 "metadata": {
  "kernelspec": {
   "display_name": "Python 3 (ipykernel)",
   "language": "python",
   "name": "python3"
  },
  "language_info": {
   "codemirror_mode": {
    "name": "ipython",
    "version": 3
   },
   "file_extension": ".py",
   "mimetype": "text/x-python",
   "name": "python",
   "nbconvert_exporter": "python",
   "pygments_lexer": "ipython3",
   "version": "3.9.13"
  }
 },
 "nbformat": 4,
 "nbformat_minor": 5
}
