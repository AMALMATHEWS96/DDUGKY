{
 "cells": [
  {
   "cell_type": "code",
   "execution_count": 5,
   "id": "c0c357d0",
   "metadata": {},
   "outputs": [
    {
     "name": "stdout",
     "output_type": "stream",
     "text": [
      "enter a number:10\n",
      "enter a numbr10\n",
      "result is:100\n"
     ]
    }
   ],
   "source": [
    "a= int(input(\"enter a number:\"))\n",
    "b= int(input('enter a numbr'))\n",
    "c=int(a*b)\n",
    "\n",
    "print('result is:'+str(c))"
   ]
  },
  {
   "cell_type": "code",
   "execution_count": 4,
   "id": "8c59c735",
   "metadata": {},
   "outputs": [
    {
     "name": "stdout",
     "output_type": "stream",
     "text": [
      "30\n"
     ]
    }
   ],
   "source": [
    "a=10\n",
    "b=20\n",
    "c=a+b\n",
    "print(c)"
   ]
  },
  {
   "cell_type": "code",
   "execution_count": 7,
   "id": "e9beec27",
   "metadata": {},
   "outputs": [
    {
     "name": "stdout",
     "output_type": "stream",
     "text": [
      "enter 3 numbers:10\n",
      "20\n",
      "30\n",
      "average is:20.0\n"
     ]
    }
   ],
   "source": [
    "a=int(input(\"enter 3 numbers:\"))\n",
    "b=int(input())\n",
    "c=int(input())\n",
    "d=(a+b+c)/3\n",
    "print('average is:'+str(d))"
   ]
  },
  {
   "cell_type": "code",
   "execution_count": null,
   "id": "f8d978d1",
   "metadata": {},
   "outputs": [],
   "source": []
  }
 ],
 "metadata": {
  "kernelspec": {
   "display_name": "Python 3 (ipykernel)",
   "language": "python",
   "name": "python3"
  },
  "language_info": {
   "codemirror_mode": {
    "name": "ipython",
    "version": 3
   },
   "file_extension": ".py",
   "mimetype": "text/x-python",
   "name": "python",
   "nbconvert_exporter": "python",
   "pygments_lexer": "ipython3",
   "version": "3.9.13"
  }
 },
 "nbformat": 4,
 "nbformat_minor": 5
}
